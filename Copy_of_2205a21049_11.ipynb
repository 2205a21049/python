{
  "nbformat": 4,
  "nbformat_minor": 0,
  "metadata": {
    "colab": {
      "provenance": [],
      "authorship_tag": "ABX9TyNEG7dzB60ejtwrqJeWs5re",
      "include_colab_link": true
    },
    "kernelspec": {
      "name": "python3",
      "display_name": "Python 3"
    },
    "language_info": {
      "name": "python"
    }
  },
  "cells": [
    {
      "cell_type": "markdown",
      "metadata": {
        "id": "view-in-github",
        "colab_type": "text"
      },
      "source": [
        "<a href=\"https://colab.research.google.com/github/2205a21049/python/blob/main/Copy_of_2205a21049_11.ipynb\" target=\"_parent\"><img src=\"https://colab.research.google.com/assets/colab-badge.svg\" alt=\"Open In Colab\"/></a>"
      ]
    },
    {
      "cell_type": "code",
      "execution_count": null,
      "metadata": {
        "id": "RCgnZJnQqsiK"
      },
      "outputs": [],
      "source": [
        "import pandas as pd\n",
        "students={\n",
        "    \"Roll_no\":[101,102,103,104,105],\n",
        "    \"Telugu\":[35,98,43,65,78],\n",
        "    \"English\":[87,45,98,65,34],\n",
        "    \"Hindi\":[45,26,78,45,67],\n",
        "    \"Maths\":[45,56,67,78,89],\n",
        "    \"Science\":[23,34,45,56,76],\n",
        "    \"Social\":[32,43,54,65,67]\n",
        "}\n",
        "data=pd.DataFrame(students)\n",
        "\n",
        "Hall_ticket=int(input(\"enter the Hall_ticket\"))\n",
        "ind=data[data[\"Roll_no\"]==Hall_ticket].index\n",
        "\n",
        "score_card=data.loc[[ind[0]]]\n",
        "score_card.pop(\"Roll_no\")\n",
        "percentage=score_card.loc[ind[0]].sum()*100/600\n",
        "fail=score_card[score_card<35].count()\n",
        "no_of_fail_sub=fail.sum()\n",
        "failed_sub=fail[fail==1].index\n",
        "if(no_of_fail_sub>0):\n",
        "  print(\"status:fail\")\n",
        "  print(\"failed_sub:\",failed_sub)\n",
        "else:\n",
        "  print(\"status:pass\")\n",
        "  print(\"pass percentage:\",percentage)\n",
        "\n",
        "\n",
        "score_card"
      ]
    }
  ]
}